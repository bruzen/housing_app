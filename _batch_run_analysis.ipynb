{
 "cells": [
  {
   "cell_type": "code",
   "execution_count": null,
   "metadata": {},
   "outputs": [],
   "source": [
    "import datetime\n",
    "# import sys\n",
    "# sys.path.append('..')  # Add the parent directory to the sys.path\n",
    "from utils.batch_run import run_experiment"
   ]
  },
  {
   "cell_type": "code",
   "execution_count": null,
   "metadata": {},
   "outputs": [],
   "source": [
    "batch_parameters = {\n",
    "            'data_collection_period': 1,\n",
    "            'iterations': 1,\n",
    "            'max_steps': 200\n",
    "}\n",
    "\n",
    "# List variable_parameters for experiments\n",
    "experiment_parameters_list = [\n",
    "    {\n",
    "    #   'density': [1, 10],\n",
    "        # 'c': [3000, 300.0], \n",
    "    #   `'wealth_sensitivity': 0.1,\n",
    "    #  'cg_tax_per':   [0.5, 0.6],# 3, 4, 5], # share 0-1\n",
    "    #   'cg_tax_invest': [0.2, 0.3], # share 0-1\n",
    "    #   'subsistence_wage': [40000], # [10000, 30000],\n",
    "    #   'gamma': [0.001, 0.02, 0.7]\n",
    "    #    'property_tax_rate': [.04, .08]\n",
    "    #    'price_of_output': [6.6, 10, 15]\n",
    "    #     'r_prime': [0.025, 0.05, .1], \n",
    "         'r_investor': [0.025, 0.05, .1] \n",
    "    }\n",
    "    # {\n",
    "    #     'density': [1, 100],\n",
    "    #     'gamma': [0.001, 0.02, 0.7]\n",
    "    # }\n",
    "]\n",
    "\n",
    "# Define fixed parameters, replaced by variable_parameters if there is a conflict\n",
    "fixed_parameters = {\n",
    "    'width':     10,\n",
    "    'height':    10,\n",
    "    }"
   ]
  },
  {
   "cell_type": "code",
   "execution_count": null,
   "metadata": {},
   "outputs": [],
   "source": [
    "fixed_parameters['timestamp'] = datetime.datetime.now().strftime(\"%Y-%m-%d-%H%M%S\")\n",
    "for i, variable_parameters in enumerate(experiment_parameters_list):\n",
    "    name = f'exp{i}'\n",
    "    run_experiment(batch_parameters, variable_parameters, fixed_parameters, name)\n",
    "\n",
    "    # Turn on for timing\n",
    "    # cProfile.run(\"run_experiment(batch_parameters, variable_parameters, fixed_parameters, name)\", sort='cumulative')"
   ]
  }
 ],
 "metadata": {
  "kernelspec": {
   "display_name": "housing",
   "language": "python",
   "name": "python3"
  },
  "language_info": {
   "codemirror_mode": {
    "name": "ipython",
    "version": 3
   },
   "file_extension": ".py",
   "mimetype": "text/x-python",
   "name": "python",
   "nbconvert_exporter": "python",
   "pygments_lexer": "ipython3",
   "version": "3.9.18"
  }
 },
 "nbformat": 4,
 "nbformat_minor": 2
}
