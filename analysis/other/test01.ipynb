{
 "cells": [
  {
   "cell_type": "code",
   "execution_count": 2,
   "metadata": {},
   "outputs": [],
   "source": [
    "import sys\n",
    "sys.path.append('..')  # Add the parent directory to the sys.path\n",
    "from model.model_fast import City\n",
    "\n"
   ]
  },
  {
   "cell_type": "code",
   "execution_count": null,
   "metadata": {},
   "outputs": [],
   "source": [
    "import os\n",
    "print(os.getcwd())"
   ]
  },
  {
   "cell_type": "code",
   "execution_count": null,
   "metadata": {},
   "outputs": [],
   "source": [
    "# Run model\n",
    "num_steps  = 10\n",
    "parameters = {\n",
    "            'width':     3,\n",
    "            'height':    3,\n",
    "}\n",
    "city = City(num_steps, **parameters)\n",
    "for time_step in range(num_steps): # TODO time here and above\n",
    "    # print(f'Step {time}')\n",
    "    city.step_fast()\n",
    "city.record_run_data_to_file()\n",
    "agent_out = city.datacollector.get_agent_vars_dataframe()\n",
    "model_out = city.datacollector.get_model_vars_dataframe()"
   ]
  }
 ],
 "metadata": {
  "kernelspec": {
   "display_name": "housing",
   "language": "python",
   "name": "python3"
  },
  "language_info": {
   "codemirror_mode": {
    "name": "ipython",
    "version": 3
   },
   "file_extension": ".py",
   "mimetype": "text/x-python",
   "name": "python",
   "nbconvert_exporter": "python",
   "pygments_lexer": "ipython3",
   "version": "3.9.18"
  }
 },
 "nbformat": 4,
 "nbformat_minor": 2
}
