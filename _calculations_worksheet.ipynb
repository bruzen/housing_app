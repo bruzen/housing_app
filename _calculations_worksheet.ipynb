{
 "cells": [
  {
   "cell_type": "code",
   "execution_count": null,
   "metadata": {},
   "outputs": [],
   "source": [
    "# Population from city extent\n",
    "mult = 1.2\n",
    "density = 300 # 600\n",
    "seed = 400\n",
    "extent = 229\n",
    "agent_count = 2*extent**2\n",
    "N = mult * (density * agent_count + seed)\n",
    "print(f'N is {N}, with city extent 229.')"
   ]
  },
  {
   "cell_type": "code",
   "execution_count": null,
   "metadata": {},
   "outputs": [],
   "source": [
    "# Marginal product of labour\n",
    "alpha = .17\n",
    "beta  = .75\n",
    "gamma = .02 # .2\n",
    "A = 3000\n",
    "# N = 300000 # take from above\n",
    "\n",
    "\n",
    "k = 1317923839.1\n",
    "# n = 100\n",
    "\n",
    "MPL = beta * A * N**gamma * k**alpha *n**(beta-1)\n",
    "print(f'MPL is {MPL}.')"
   ]
  }
 ],
 "metadata": {
  "kernelspec": {
   "display_name": "housing",
   "language": "python",
   "name": "python3"
  },
  "language_info": {
   "codemirror_mode": {
    "name": "ipython",
    "version": 3
   },
   "file_extension": ".py",
   "mimetype": "text/x-python",
   "name": "python",
   "nbconvert_exporter": "python",
   "pygments_lexer": "ipython3",
   "version": "3.8.13"
  }
 },
 "nbformat": 4,
 "nbformat_minor": 2
}
