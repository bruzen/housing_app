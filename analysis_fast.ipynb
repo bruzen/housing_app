{
 "cells": [
  {
   "cell_type": "code",
   "execution_count": null,
   "metadata": {},
   "outputs": [],
   "source": [
    "import numpy as np\n",
    "import matplotlib.pyplot as plt\n",
    "from mpl_toolkits.mplot3d import Axes3D\n",
    "from model.model_fast import City"
   ]
  },
  {
   "cell_type": "code",
   "execution_count": null,
   "metadata": {},
   "outputs": [],
   "source": [
    "num_steps  = 4\n",
    "parameters = {\n",
    "            'width':     3,\n",
    "            'height':    3,\n",
    "}\n",
    "city = City(num_steps, **parameters)\n",
    "for time_step in range(num_steps): # TODO time here and above\n",
    "    # print(f'Step {time}')\n",
    "    city.step_fast()\n",
    "city.record_run_data_to_file()\n",
    "agent_out = city.datacollector.get_agent_vars_dataframe()\n",
    "model_out = city.datacollector.get_model_vars_dataframe()"
   ]
  },
  {
   "cell_type": "code",
   "execution_count": null,
   "metadata": {},
   "outputs": [],
   "source": [
    "# Run the model and collect data\n",
    "for time_step in range(1, num_steps + 1):\n",
    "    # Load newcomer bid data for the current time step\n",
    "    loaded_data = model_out[model_out['time_step'] == time_step]['newcomer_bid_data'].values[0]\n",
    "\n",
    "    # Extract data\n",
    "    newcomer_bids, dist_values, savings_values = zip(*loaded_data)\n",
    "\n",
    "    # Create a 3D surface plot\n",
    "    fig = plt.figure(figsize=(10, 8))\n",
    "    ax = fig.add_subplot(111, projection='3d')\n",
    "    ax.plot_trisurf(dist_values, savings_values, newcomer_bids, cmap='viridis', edgecolor='k')\n",
    "    ax.scatter(dist_values, savings_values, newcomer_bids, marker='*', color='red', s=100, label='Newcomer Bids')\n",
    "    ax.set_title(f'Newcomer Bids - Time Step {time_step}')\n",
    "    ax.set_xlabel('Distance')\n",
    "    ax.set_ylabel('Savings')\n",
    "    ax.set_zlabel('Newcomer Bid')\n",
    "    plt.show()"
   ]
  }
 ],
 "metadata": {
  "kernelspec": {
   "display_name": "housing",
   "language": "python",
   "name": "python3"
  },
  "language_info": {
   "codemirror_mode": {
    "name": "ipython",
    "version": 3
   },
   "file_extension": ".py",
   "mimetype": "text/x-python",
   "name": "python",
   "nbconvert_exporter": "python",
   "pygments_lexer": "ipython3",
   "version": "3.9.18"
  }
 },
 "nbformat": 4,
 "nbformat_minor": 2
}
