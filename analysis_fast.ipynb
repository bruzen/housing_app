{
 "cells": [
  {
   "cell_type": "code",
   "execution_count": null,
   "metadata": {},
   "outputs": [],
   "source": [
    "import numpy as np\n",
    "import matplotlib.pyplot as plt\n",
    "from mpl_toolkits.mplot3d import Axes3D\n",
    "from model.model_fast import City"
   ]
  },
  {
   "cell_type": "code",
   "execution_count": null,
   "metadata": {},
   "outputs": [],
   "source": [
    "num_steps  = 200\n",
    "parameters = {\n",
    "            'width':     3,\n",
    "            'height':    3,\n",
    "}\n",
    "city = City(num_steps, **parameters)\n",
    "for time_step in range(num_steps): # TODO time here and above\n",
    "    # print(f'Step {time}')\n",
    "    city.step_fast()\n",
    "city.record_run_data_to_file()\n",
    "agent_out = city.datacollector.get_agent_vars_dataframe()\n",
    "model_out = city.datacollector.get_model_vars_dataframe()"
   ]
  },
  {
   "cell_type": "code",
   "execution_count": null,
   "metadata": {},
   "outputs": [],
   "source": [
    "# Extract attributes for plotting (excluding 'dist')\n",
    "attributes_to_plot = [\"R_N\", \"p_dot\", \"investor_bid\", \"warranted_rent\", \"warranted_price\", \"maintenance\"]\n",
    "\n",
    "# Create subplots\n",
    "num_rows = 4\n",
    "num_cols = 2\n",
    "fig, axs = plt.subplots(num_rows, num_cols, figsize=(15, 15))\n",
    "fig.suptitle(\"Attributes vs Distance at Each Time Step\", y=1.02, fontsize='x-large')  # Increased font size for the title\n",
    "\n",
    "# Get distinct colors for each time step\n",
    "num_time_steps = city.num_steps\n",
    "colors = plt.cm.viridis(np.linspace(0, 1, num_time_steps))\n",
    "\n",
    "# Loop over attributes\n",
    "for i, attribute in enumerate(attributes_to_plot):\n",
    "    # Loop over time steps\n",
    "    for time_step in range(2, num_time_steps + 1):\n",
    "        # Load data for the current time step\n",
    "        loaded_data = model_out[model_out['time_step'] == time_step]\n",
    "\n",
    "        # Flatten the 'dist' column if it contains lists\n",
    "        flattened_dist = [item for sublist in loaded_data['dist'].values for item in sublist]\n",
    "\n",
    "        # Plot the attribute on the current subplot with the same color for each time step\n",
    "        axs[i // num_cols, i % num_cols].plot(\n",
    "            np.array(flattened_dist).astype(float),\n",
    "            loaded_data[attribute].explode(),\n",
    "            label=f\"Time Step {time_step}\",\n",
    "            color=colors[time_step - 1]\n",
    "        )\n",
    "        axs[i // num_cols, i % num_cols].set_title(attribute, fontsize='large')  # Increased font size for the title\n",
    "        axs[i // num_cols, i % num_cols].set_xlabel(\"Distance\", fontsize='medium')  # Increased font size for x-axis label\n",
    "        axs[i // num_cols, i % num_cols].set_ylabel(attribute, fontsize='medium')  # Increased font size for y-axis label\n",
    "\n",
    "# Add a legend to the last subplot\n",
    "legend_ax = axs[-1, -1]\n",
    "handles, labels = axs[0, 0].get_legend_handles_labels()\n",
    "fig.legend(handles, labels, title='Time Steps', bbox_to_anchor=(.9, .10), loc='lower right', fontsize='large')\n",
    "# legend_ax.legend(handles, labels, title='Time Steps', bbox_to_anchor=(1.05, 1), loc='upper left')\n",
    "legend_ax.axis('off')  # Disable axis for the legend\n",
    "\n",
    "plt.tight_layout()\n",
    "plt.show()\n"
   ]
  },
  {
   "cell_type": "code",
   "execution_count": null,
   "metadata": {},
   "outputs": [],
   "source": [
    "# Plot \n",
    "for time_step in range(1, num_steps + 1):\n",
    "    # Load newcomer bid data for the current time step\n",
    "    loaded_data = model_out[model_out['time_step'] == time_step]['newcomer_bid'].values[0]\n",
    "\n",
    "    # Extract data\n",
    "    newcomer_bids, dist_values, savings_values = zip(*loaded_data)\n",
    "\n",
    "    # Create a 3D surface plot\n",
    "    fig = plt.figure(figsize=(10, 8))\n",
    "    ax = fig.add_subplot(111, projection='3d')\n",
    "    ax.plot_trisurf(dist_values, savings_values, newcomer_bids, cmap='viridis', edgecolor='k')\n",
    "    ax.scatter(dist_values, savings_values, newcomer_bids, marker='*', color='red', s=100, label='Newcomer Bids')\n",
    "    ax.set_title(f'Newcomer Bids - Time Step {time_step}')\n",
    "    ax.set_xlabel('Distance')\n",
    "    ax.set_ylabel('Savings')\n",
    "    ax.set_zlabel('Newcomer Bid')\n",
    "    plt.show()"
   ]
  }
 ],
 "metadata": {
  "kernelspec": {
   "display_name": "housing",
   "language": "python",
   "name": "python3"
  },
  "language_info": {
   "codemirror_mode": {
    "name": "ipython",
    "version": 3
   },
   "file_extension": ".py",
   "mimetype": "text/x-python",
   "name": "python",
   "nbconvert_exporter": "python",
   "pygments_lexer": "ipython3",
   "version": "3.9.18"
  }
 },
 "nbformat": 4,
 "nbformat_minor": 2
}
