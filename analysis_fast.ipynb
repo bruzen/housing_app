{
 "cells": [
  {
   "cell_type": "code",
   "execution_count": null,
   "metadata": {},
   "outputs": [],
   "source": [
    "from model.model_fast import City"
   ]
  },
  {
   "cell_type": "code",
   "execution_count": null,
   "metadata": {},
   "outputs": [],
   "source": [
    "num_steps  = 2\n",
    "parameters = {\n",
    "            'width':     3,\n",
    "            'height':    3,\n",
    "}\n",
    "city = City(num_steps, **parameters)\n",
    "for time in range(4): # TODO time here and above\n",
    "    # print(f'Step {time}')\n",
    "    city.step_fast()\n",
    "# print(city.newcomer_bid_history)\n",
    "city.record_run_data_to_file()"
   ]
  }
 ],
 "metadata": {
  "kernelspec": {
   "display_name": "housing",
   "language": "python",
   "name": "python3"
  },
  "language_info": {
   "codemirror_mode": {
    "name": "ipython",
    "version": 3
   },
   "file_extension": ".py",
   "mimetype": "text/x-python",
   "name": "python",
   "nbconvert_exporter": "python",
   "pygments_lexer": "ipython3",
   "version": "3.9.18"
  }
 },
 "nbformat": 4,
 "nbformat_minor": 2
}
