{
 "cells": [
  {
   "cell_type": "code",
   "execution_count": null,
   "metadata": {},
   "outputs": [],
   "source": [
    "from model.model_fast import City"
   ]
  },
  {
   "cell_type": "code",
   "execution_count": null,
   "metadata": {},
   "outputs": [],
   "source": [
    "num_steps  = 5\n",
    "parameters = {\n",
    "            'width':     10,\n",
    "            'height':    10,\n",
    "}\n",
    "city = City(num_steps, **parameters)\n",
    "for time in range(5):\n",
    "    # print(f'Step {time}')\n",
    "    city.step_fast()\n",
    "# print(city.newcomer_bid_rent_history)"
   ]
  },
  {
   "cell_type": "code",
   "execution_count": null,
   "metadata": {},
   "outputs": [],
   "source": [
    "import matplotlib.pyplot as plt\n",
    "def plot_bid_rent_history(newcomer_bid_rent_history):\n",
    "    # Assuming newcomer_bid_rent_history is a 2D list with bid rent values for each time step and savings value\n",
    "    # You may need to adjust the code based on the actual structure of newcomer_bid_rent_history\n",
    "\n",
    "    # Transpose the list to have each sublist represent bid rent values for a specific savings value\n",
    "    bid_rent_history_transposed = list(map(list, zip(*newcomer_bid_rent_history)))\n",
    "\n",
    "    # Plotting each savings value separately\n",
    "    for idx, bid_rent_values in enumerate(bid_rent_history_transposed):\n",
    "        plt.plot(bid_rent_values, label=f'Savings Value {idx + 1}')\n",
    "\n",
    "    plt.xlabel('Distance')\n",
    "    plt.ylabel('Bid Rent')\n",
    "    plt.title('Newcomer Bid Rent History')\n",
    "    plt.legend()\n",
    "    plt.show()\n",
    "\n",
    "plot_bid_rent_history(city.newcomer_bid_rent_history)\n"
   ]
  }
 ],
 "metadata": {
  "kernelspec": {
   "display_name": "housing",
   "language": "python",
   "name": "python3"
  },
  "language_info": {
   "codemirror_mode": {
    "name": "ipython",
    "version": 3
   },
   "file_extension": ".py",
   "mimetype": "text/x-python",
   "name": "python",
   "nbconvert_exporter": "python",
   "pygments_lexer": "ipython3",
   "version": "3.9.18"
  }
 },
 "nbformat": 4,
 "nbformat_minor": 2
}
