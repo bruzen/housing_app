{
 "cells": [
  {
   "cell_type": "code",
   "execution_count": null,
   "metadata": {},
   "outputs": [],
   "source": [
    "import run as run\n",
    "import utils.plotting as plotting\n",
    "df, variable_parameters = run.fast_batch()\n",
    "plotting.variables_vs_time(df, variable_parameters)"
   ]
  },
  {
   "cell_type": "code",
   "execution_count": null,
   "metadata": {},
   "outputs": [],
   "source": [
    "import run as run\n",
    "import utils.plotting as plotting\n",
    "df, variable_parameters = run.batch()\n",
    "plotting.variables_vs_time(df, variable_parameters)"
   ]
  },
  {
   "cell_type": "code",
   "execution_count": null,
   "metadata": {},
   "outputs": [],
   "source": [
    "city, agent_out, model_out = run.run()\n",
    "single_run_df = pd.DataFrame(model_out)\n",
    "plotting.mpl_vs_time(single_run_df)"
   ]
  },
  {
   "cell_type": "code",
   "execution_count": null,
   "metadata": {},
   "outputs": [],
   "source": [
    "import pandas as pd\n",
    "\n",
    "# Sample data with 2 time steps, 3 itterations, \n",
    "data = {\n",
    "    'iteration': [0, 0, 0, 0, 1, 1, 1, 1, 2, 2, 2, 2], # for 3 iterations\n",
    "    'RunId':     [0, 0, 1, 1, 2, 2, 3, 3, 4, 4, 5, 5], # for 2 runs of each iteration\n",
    "    'time_step': [0, 1, 0, 1, 0, 1, 0, 1, 0, 1, 0, 1], # for 2 timesteps per run\n",
    "    'RunGroup':  [0, 0, 1, 1, 0, 0, 1, 1, 0, 0, 1, 1]\n",
    "}\n",
    "\n",
    "# Sample data with 3 time steps, 2 itterations, 3 param values\n",
    "data2 = {\n",
    "    'iteration': [0, 0, 0, 0, 0, 0, 0, 0, 0, 1, 1, 1, 1, 1, 1, 1, 1, 1], # for 2 iterations\n",
    "    'RunId':     [0, 0, 0, 1, 1, 1, 2, 2, 2, 3, 3, 3, 4, 4, 4, 5, 5, 5], # 3 different parameter settings (run over time, twice each)\n",
    "    'time_step': [0, 1, 2, 0, 1, 2, 0, 1, 2, 0, 1, 2, 0, 1, 2, 0, 1, 2], # for 2 timesteps per run\n",
    "    'RunGroup':  [0, 0, 0, 1, 1, 1, 2, 2, 2, 0, 0, 0, 1, 1, 1, 2, 2, 2]   \n",
    "}\n",
    "\n",
    "\n",
    "df = pd.DataFrame(data2)\n",
    "df['RunGroup'] = df.groupby('iteration')['RunId'].transform(lambda x: pd.factorize(x)[0])\n",
    "\n",
    "for i, run_id in enumerate(df['RunId'].unique()):\n",
    "    current_run_group = df[df['RunId'] == run_id]['RunGroup'].iloc[0]\n",
    "    current_iteration = df[df['RunId'] == run_id]['iteration'].iloc[0]\n",
    "    if current_iteration == 0:\n",
    "        print(f'Execute logic for RunId {run_id} in iteration {current_iteration}')\n"
   ]
  }
 ],
 "metadata": {
  "kernelspec": {
   "display_name": "housing",
   "language": "python",
   "name": "python3"
  },
  "language_info": {
   "codemirror_mode": {
    "name": "ipython",
    "version": 3
   },
   "file_extension": ".py",
   "mimetype": "text/x-python",
   "name": "python",
   "nbconvert_exporter": "python",
   "pygments_lexer": "ipython3",
   "version": "3.9.18"
  }
 },
 "nbformat": 4,
 "nbformat_minor": 2
}
